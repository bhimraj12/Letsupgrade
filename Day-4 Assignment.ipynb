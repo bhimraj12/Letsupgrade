{
 "cells": [
  {
   "cell_type": "code",
   "execution_count": null,
   "metadata": {},
   "outputs": [],
   "source": [
    "lower = 1042000\n",
    "upper = 702648265\n",
    "for num in range(lower,upper + 1):\n",
    " order = len(str(num))\n",
    "sum = 0\n",
    "temp = num\n",
    "while temp > 0:\n",
    " digit = temp % 10\n",
    "sum += digit ** order\n",
    "temp //= 10\n",
    "if num == sum:\n",
    " print(\"The first Armstrong number is-\",num)\n",
    "break"
   ]
  },
  {
   "cell_type": "code",
   "execution_count": null,
   "metadata": {},
   "outputs": [],
   "source": []
  }
 ],
 "metadata": {
  "kernelspec": {
   "display_name": "Python 3",
   "language": "python",
   "name": "python3"
  }
 },
 "nbformat": 4,
 "nbformat_minor": 4
}
