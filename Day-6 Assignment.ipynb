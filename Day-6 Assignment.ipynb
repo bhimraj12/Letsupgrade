{
 "cells": [
  {
   "cell_type": "code",
   "execution_count": 31,
   "metadata": {},
   "outputs": [],
   "source": [
    "\n",
    "class Bank():\n",
    "    def __init__(self,owner,balance=0):\n",
    "        self.owner = owner\n",
    "        self.balance = balance\n",
    "        \n",
    "    def deposit(self, balance):\n",
    "        self.balance+=  balance\n",
    "        return self.balance\n",
    "    \n",
    "    def withdraw(self,balance):\n",
    "            if self.balance >= balance:\n",
    "                self.balance-=balance\n",
    "            else:\n",
    "                return \"Not Possible only \" + str(self.balance) + ' is avaliable'\n",
    "            return self.balance"
   ]
  },
  {
   "cell_type": "code",
   "execution_count": 4,
   "metadata": {},
   "outputs": [],
   "source": [
    "account1 = Bank('account1',500)"
   ]
  },
  {
   "cell_type": "code",
   "execution_count": 25,
   "metadata": {},
   "outputs": [
    {
     "data": {
      "text/plain": [
       "1600"
      ]
     },
     "execution_count": 25,
     "metadata": {},
     "output_type": "execute_result"
    }
   ],
   "source": [
    "account1.deposit(1200)"
   ]
  },
  {
   "cell_type": "code",
   "execution_count": 26,
   "metadata": {},
   "outputs": [
    {
     "data": {
      "text/plain": [
       "'Not Possible only 1600 is avaliable'"
      ]
     },
     "execution_count": 26,
     "metadata": {},
     "output_type": "execute_result"
    }
   ],
   "source": [
    "account1.withdraw(2000)"
   ]
  },
  {
   "cell_type": "code",
   "execution_count": 32,
   "metadata": {},
   "outputs": [
    {
     "data": {
      "text/plain": [
       "1300"
      ]
     },
     "execution_count": 32,
     "metadata": {},
     "output_type": "execute_result"
    }
   ],
   "source": [
    "account1.withdraw(100)"
   ]
  },
  {
   "cell_type": "code",
   "execution_count": 33,
   "metadata": {},
   "outputs": [],
   "source": [
    "import math\n",
    "class Cone:\n",
    "    def __init__(self,r=1,h=1):\n",
    "        self.r = r\n",
    "        self.h = h\n",
    "        self.volume =0\n",
    "        self.surface_area = 0\n",
    "    def volume_fun(self):\n",
    "        self.volume = math.pi * self.r * self.r * (self.h/3)\n",
    "        return self.volume\n",
    "    def surface_area_fun(self):\n",
    "        base = math.pi * self.r * self.r\n",
    "        side = math.pi * self.r * math.sqrt(self.r**2 + self.h**2)\n",
    "        self.surface_area = base + side\n",
    "        return self.surface_area"
   ]
  },
  {
   "cell_type": "code",
   "execution_count": 35,
   "metadata": {},
   "outputs": [],
   "source": [
    "cone1 = Cone(7,5)"
   ]
  },
  {
   "cell_type": "code",
   "execution_count": 37,
   "metadata": {},
   "outputs": [
    {
     "data": {
      "text/plain": [
       "256.56340004316644"
      ]
     },
     "execution_count": 37,
     "metadata": {},
     "output_type": "execute_result"
    }
   ],
   "source": [
    "cone1.volume_fun()"
   ]
  }
 ],
 "metadata": {
  "kernelspec": {
   "display_name": "Python 3",
   "language": "python",
   "name": "python3"
  },
  "language_info": {
   "codemirror_mode": {
    "name": "ipython",
    "version": 3
   },
   "file_extension": ".py",
   "mimetype": "text/x-python",
   "name": "python",
   "nbconvert_exporter": "python",
   "pygments_lexer": "ipython3",
   "version": "3.8.3"
  }
 },
 "nbformat": 4,
 "nbformat_minor": 4
}
